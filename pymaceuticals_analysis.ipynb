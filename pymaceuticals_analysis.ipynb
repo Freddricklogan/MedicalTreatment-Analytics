{
 "cells": [
  {
   "cell_type": "markdown",
   "metadata": {},
   "source": [
    "# Pymaceuticals Cancer Treatment Study
",
    "
",
    "This analysis examines how different drug regimens affect tumor growth in mice with squamous cell carcinoma."
   ]
  },
  {
   "cell_type": "code",
   "execution_count": null,
   "metadata": {},
   "source": [
    "# Dependencies and Setup
",
    "import matplotlib.pyplot as plt
",
    "import pandas as pd
",
    "import scipy.stats as st
",
    "import numpy as np
",
    "from scipy.stats import sem
",
    "import seaborn as sns
",
    "from pathlib import Path"
   ]
  }
 ],
 "metadata": {
  "kernelspec": {
   "display_name": "Python 3",
   "language": "python",
   "name": "python3"
  }
 },
 "nbformat": 4,
 "nbformat_minor": 4
}
Additional analysis content
